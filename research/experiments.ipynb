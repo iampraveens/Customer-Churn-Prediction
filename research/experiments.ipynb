{
 "cells": [
  {
   "cell_type": "markdown",
   "metadata": {},
   "source": [
    "## 1. Import Dependencies\n",
    "- **Essential Libraries for Machine Learning: Data Preprocessing, Sampling, Classification, Resampling, Model Training, Parameter tuning and Evaluation**"
   ]
  },
  {
   "cell_type": "code",
   "execution_count": 91,
   "metadata": {},
   "outputs": [],
   "source": [
    "from collections import Counter\n",
    "from pprint import pprint\n",
    "import pandas as pd\n",
    "import numpy as np\n",
    "import seaborn as sns\n",
    "import matplotlib.pyplot as plt\n",
    "from sklearn.preprocessing import LabelEncoder\n",
    "from sklearn.model_selection import train_test_split\n",
    "from imblearn.over_sampling import SMOTE\n",
    "from imblearn.combine import SMOTEENN\n",
    "from sklearn.linear_model import LogisticRegression\n",
    "from sklearn.ensemble import RandomForestClassifier\n",
    "from xgboost import XGBClassifier\n",
    "from sklearn.model_selection import GridSearchCV\n",
    "from sklearn.model_selection import cross_val_score\n",
    "from sklearn.metrics import (accuracy_score, f1_score, \n",
    "                             confusion_matrix, classification_report)"
   ]
  },
  {
   "cell_type": "code",
   "execution_count": 2,
   "metadata": {},
   "outputs": [],
   "source": [
    "pd.set_option('display.max_columns', None)"
   ]
  },
  {
   "cell_type": "markdown",
   "metadata": {},
   "source": [
    "## 2. Data Ingestion\n",
    "- **Loading and Exploring the Telco Churn Dataset**"
   ]
  },
  {
   "cell_type": "code",
   "execution_count": 3,
   "metadata": {},
   "outputs": [
    {
     "data": {
      "text/html": [
       "<div>\n",
       "<style scoped>\n",
       "    .dataframe tbody tr th:only-of-type {\n",
       "        vertical-align: middle;\n",
       "    }\n",
       "\n",
       "    .dataframe tbody tr th {\n",
       "        vertical-align: top;\n",
       "    }\n",
       "\n",
       "    .dataframe thead th {\n",
       "        text-align: right;\n",
       "    }\n",
       "</style>\n",
       "<table border=\"1\" class=\"dataframe\">\n",
       "  <thead>\n",
       "    <tr style=\"text-align: right;\">\n",
       "      <th></th>\n",
       "      <th>customerID</th>\n",
       "      <th>gender</th>\n",
       "      <th>SeniorCitizen</th>\n",
       "      <th>Partner</th>\n",
       "      <th>Dependents</th>\n",
       "      <th>tenure</th>\n",
       "      <th>PhoneService</th>\n",
       "      <th>MultipleLines</th>\n",
       "      <th>InternetService</th>\n",
       "      <th>OnlineSecurity</th>\n",
       "      <th>OnlineBackup</th>\n",
       "      <th>DeviceProtection</th>\n",
       "      <th>TechSupport</th>\n",
       "      <th>StreamingTV</th>\n",
       "      <th>StreamingMovies</th>\n",
       "      <th>Contract</th>\n",
       "      <th>PaperlessBilling</th>\n",
       "      <th>PaymentMethod</th>\n",
       "      <th>MonthlyCharges</th>\n",
       "      <th>TotalCharges</th>\n",
       "      <th>Churn</th>\n",
       "    </tr>\n",
       "  </thead>\n",
       "  <tbody>\n",
       "    <tr>\n",
       "      <th>0</th>\n",
       "      <td>7590-VHVEG</td>\n",
       "      <td>Female</td>\n",
       "      <td>0</td>\n",
       "      <td>Yes</td>\n",
       "      <td>No</td>\n",
       "      <td>1</td>\n",
       "      <td>No</td>\n",
       "      <td>No phone service</td>\n",
       "      <td>DSL</td>\n",
       "      <td>No</td>\n",
       "      <td>Yes</td>\n",
       "      <td>No</td>\n",
       "      <td>No</td>\n",
       "      <td>No</td>\n",
       "      <td>No</td>\n",
       "      <td>Month-to-month</td>\n",
       "      <td>Yes</td>\n",
       "      <td>Electronic check</td>\n",
       "      <td>29.85</td>\n",
       "      <td>29.85</td>\n",
       "      <td>No</td>\n",
       "    </tr>\n",
       "    <tr>\n",
       "      <th>1</th>\n",
       "      <td>5575-GNVDE</td>\n",
       "      <td>Male</td>\n",
       "      <td>0</td>\n",
       "      <td>No</td>\n",
       "      <td>No</td>\n",
       "      <td>34</td>\n",
       "      <td>Yes</td>\n",
       "      <td>No</td>\n",
       "      <td>DSL</td>\n",
       "      <td>Yes</td>\n",
       "      <td>No</td>\n",
       "      <td>Yes</td>\n",
       "      <td>No</td>\n",
       "      <td>No</td>\n",
       "      <td>No</td>\n",
       "      <td>One year</td>\n",
       "      <td>No</td>\n",
       "      <td>Mailed check</td>\n",
       "      <td>56.95</td>\n",
       "      <td>1889.5</td>\n",
       "      <td>No</td>\n",
       "    </tr>\n",
       "    <tr>\n",
       "      <th>2</th>\n",
       "      <td>3668-QPYBK</td>\n",
       "      <td>Male</td>\n",
       "      <td>0</td>\n",
       "      <td>No</td>\n",
       "      <td>No</td>\n",
       "      <td>2</td>\n",
       "      <td>Yes</td>\n",
       "      <td>No</td>\n",
       "      <td>DSL</td>\n",
       "      <td>Yes</td>\n",
       "      <td>Yes</td>\n",
       "      <td>No</td>\n",
       "      <td>No</td>\n",
       "      <td>No</td>\n",
       "      <td>No</td>\n",
       "      <td>Month-to-month</td>\n",
       "      <td>Yes</td>\n",
       "      <td>Mailed check</td>\n",
       "      <td>53.85</td>\n",
       "      <td>108.15</td>\n",
       "      <td>Yes</td>\n",
       "    </tr>\n",
       "    <tr>\n",
       "      <th>3</th>\n",
       "      <td>7795-CFOCW</td>\n",
       "      <td>Male</td>\n",
       "      <td>0</td>\n",
       "      <td>No</td>\n",
       "      <td>No</td>\n",
       "      <td>45</td>\n",
       "      <td>No</td>\n",
       "      <td>No phone service</td>\n",
       "      <td>DSL</td>\n",
       "      <td>Yes</td>\n",
       "      <td>No</td>\n",
       "      <td>Yes</td>\n",
       "      <td>Yes</td>\n",
       "      <td>No</td>\n",
       "      <td>No</td>\n",
       "      <td>One year</td>\n",
       "      <td>No</td>\n",
       "      <td>Bank transfer (automatic)</td>\n",
       "      <td>42.30</td>\n",
       "      <td>1840.75</td>\n",
       "      <td>No</td>\n",
       "    </tr>\n",
       "    <tr>\n",
       "      <th>4</th>\n",
       "      <td>9237-HQITU</td>\n",
       "      <td>Female</td>\n",
       "      <td>0</td>\n",
       "      <td>No</td>\n",
       "      <td>No</td>\n",
       "      <td>2</td>\n",
       "      <td>Yes</td>\n",
       "      <td>No</td>\n",
       "      <td>Fiber optic</td>\n",
       "      <td>No</td>\n",
       "      <td>No</td>\n",
       "      <td>No</td>\n",
       "      <td>No</td>\n",
       "      <td>No</td>\n",
       "      <td>No</td>\n",
       "      <td>Month-to-month</td>\n",
       "      <td>Yes</td>\n",
       "      <td>Electronic check</td>\n",
       "      <td>70.70</td>\n",
       "      <td>151.65</td>\n",
       "      <td>Yes</td>\n",
       "    </tr>\n",
       "  </tbody>\n",
       "</table>\n",
       "</div>"
      ],
      "text/plain": [
       "   customerID  gender  SeniorCitizen Partner Dependents  tenure PhoneService  \\\n",
       "0  7590-VHVEG  Female              0     Yes         No       1           No   \n",
       "1  5575-GNVDE    Male              0      No         No      34          Yes   \n",
       "2  3668-QPYBK    Male              0      No         No       2          Yes   \n",
       "3  7795-CFOCW    Male              0      No         No      45           No   \n",
       "4  9237-HQITU  Female              0      No         No       2          Yes   \n",
       "\n",
       "      MultipleLines InternetService OnlineSecurity OnlineBackup  \\\n",
       "0  No phone service             DSL             No          Yes   \n",
       "1                No             DSL            Yes           No   \n",
       "2                No             DSL            Yes          Yes   \n",
       "3  No phone service             DSL            Yes           No   \n",
       "4                No     Fiber optic             No           No   \n",
       "\n",
       "  DeviceProtection TechSupport StreamingTV StreamingMovies        Contract  \\\n",
       "0               No          No          No              No  Month-to-month   \n",
       "1              Yes          No          No              No        One year   \n",
       "2               No          No          No              No  Month-to-month   \n",
       "3              Yes         Yes          No              No        One year   \n",
       "4               No          No          No              No  Month-to-month   \n",
       "\n",
       "  PaperlessBilling              PaymentMethod  MonthlyCharges TotalCharges  \\\n",
       "0              Yes           Electronic check           29.85        29.85   \n",
       "1               No               Mailed check           56.95       1889.5   \n",
       "2              Yes               Mailed check           53.85       108.15   \n",
       "3               No  Bank transfer (automatic)           42.30      1840.75   \n",
       "4              Yes           Electronic check           70.70       151.65   \n",
       "\n",
       "  Churn  \n",
       "0    No  \n",
       "1    No  \n",
       "2   Yes  \n",
       "3    No  \n",
       "4   Yes  "
      ]
     },
     "execution_count": 3,
     "metadata": {},
     "output_type": "execute_result"
    }
   ],
   "source": [
    "data = pd.read_csv(\"telcoChurn.csv\")\n",
    "data.head()"
   ]
  },
  {
   "cell_type": "markdown",
   "metadata": {},
   "source": [
    "- This line reads the dataset from the CSV file `\"telcoChurn.csv\"` into a \n",
    "pandas DataFrame named data. The `pd.read_csv()` function is commonly used to \n",
    "load structured data into a DataFrame for further analysis or manipulation in Python."
   ]
  },
  {
   "cell_type": "markdown",
   "metadata": {},
   "source": [
    "## 3. Descriptive Statistics Analysis\n",
    "- **Summarize and describe the main features of the dataset.**"
   ]
  },
  {
   "cell_type": "code",
   "execution_count": 4,
   "metadata": {},
   "outputs": [
    {
     "data": {
      "text/plain": [
       "(7043, 21)"
      ]
     },
     "execution_count": 4,
     "metadata": {},
     "output_type": "execute_result"
    }
   ],
   "source": [
    "data.shape"
   ]
  },
  {
   "cell_type": "markdown",
   "metadata": {},
   "source": [
    "- Returns the shape (dimensions) of the dataset. The output is a tuple where the first value represents the number of rows (samples), and the second value represents the number of columns (features)."
   ]
  },
  {
   "cell_type": "code",
   "execution_count": 5,
   "metadata": {},
   "outputs": [],
   "source": [
    "def value_counts(data: pd.DataFrame = None,column: str = None):\n",
    "    \"\"\"\n",
    "    This function takes in a pandas DataFrame and a column name and returns a Series with value_counts normalized and sorted in ascending order\n",
    "    \n",
    "    Parameters\n",
    "    ----------\n",
    "    data : pd.DataFrame, optional\n",
    "        The pandas DataFrame containing the column to be counted, by default None\n",
    "    column : str, optional\n",
    "        The column name to be counted, by default None\n",
    "\n",
    "    Returns\n",
    "    -------\n",
    "    A Series with value_counts normalized and sorted in ascending order\n",
    "    \"\"\"\n",
    "    value_counts = data[column].value_counts(normalize=True).sort_values(ascending=True)\n",
    "    return print(value_counts)"
   ]
  },
  {
   "cell_type": "code",
   "execution_count": 6,
   "metadata": {},
   "outputs": [
    {
     "name": "stdout",
     "output_type": "stream",
     "text": [
      "Churn\n",
      "Yes    0.26537\n",
      "No     0.73463\n",
      "Name: proportion, dtype: float64\n"
     ]
    }
   ],
   "source": [
    "value_counts(data=data, column='Churn')"
   ]
  },
  {
   "cell_type": "markdown",
   "metadata": {},
   "source": [
    "- This provides the proportion (relative frequency) of each class `(Yes or No)` in the 'Churn' column. Using `normalize=True` converts the counts into percentages, which is useful for understanding the class distribution in an imbalanced dataset.\n",
    "- This output indicates that around `73.5%` of the customers did not churn, while `26.5%` churned."
   ]
  },
  {
   "cell_type": "code",
   "execution_count": 7,
   "metadata": {},
   "outputs": [
    {
     "name": "stdout",
     "output_type": "stream",
     "text": [
      "<class 'pandas.core.frame.DataFrame'>\n",
      "RangeIndex: 7043 entries, 0 to 7042\n",
      "Data columns (total 21 columns):\n",
      " #   Column            Non-Null Count  Dtype  \n",
      "---  ------            --------------  -----  \n",
      " 0   customerID        7043 non-null   object \n",
      " 1   gender            7043 non-null   object \n",
      " 2   SeniorCitizen     7043 non-null   int64  \n",
      " 3   Partner           7043 non-null   object \n",
      " 4   Dependents        7043 non-null   object \n",
      " 5   tenure            7043 non-null   int64  \n",
      " 6   PhoneService      7043 non-null   object \n",
      " 7   MultipleLines     7043 non-null   object \n",
      " 8   InternetService   7043 non-null   object \n",
      " 9   OnlineSecurity    7043 non-null   object \n",
      " 10  OnlineBackup      7043 non-null   object \n",
      " 11  DeviceProtection  7043 non-null   object \n",
      " 12  TechSupport       7043 non-null   object \n",
      " 13  StreamingTV       7043 non-null   object \n",
      " 14  StreamingMovies   7043 non-null   object \n",
      " 15  Contract          7043 non-null   object \n",
      " 16  PaperlessBilling  7043 non-null   object \n",
      " 17  PaymentMethod     7043 non-null   object \n",
      " 18  MonthlyCharges    7043 non-null   float64\n",
      " 19  TotalCharges      7043 non-null   object \n",
      " 20  Churn             7043 non-null   object \n",
      "dtypes: float64(1), int64(2), object(18)\n",
      "memory usage: 1.1+ MB\n"
     ]
    }
   ],
   "source": [
    "data.info()"
   ]
  },
  {
   "cell_type": "markdown",
   "metadata": {},
   "source": [
    "- This provides a concise summary of the dataset. It includes the number of non-null values in each column, the data types of each feature (e.g., `int64`, `float64`, `object`), and the memory usage. It's helpful to quickly check for missing data and data types."
   ]
  },
  {
   "cell_type": "code",
   "execution_count": 8,
   "metadata": {},
   "outputs": [
    {
     "data": {
      "text/html": [
       "<div>\n",
       "<style scoped>\n",
       "    .dataframe tbody tr th:only-of-type {\n",
       "        vertical-align: middle;\n",
       "    }\n",
       "\n",
       "    .dataframe tbody tr th {\n",
       "        vertical-align: top;\n",
       "    }\n",
       "\n",
       "    .dataframe thead th {\n",
       "        text-align: right;\n",
       "    }\n",
       "</style>\n",
       "<table border=\"1\" class=\"dataframe\">\n",
       "  <thead>\n",
       "    <tr style=\"text-align: right;\">\n",
       "      <th></th>\n",
       "      <th>SeniorCitizen</th>\n",
       "      <th>tenure</th>\n",
       "      <th>MonthlyCharges</th>\n",
       "      <th>TotalCharges</th>\n",
       "    </tr>\n",
       "  </thead>\n",
       "  <tbody>\n",
       "    <tr>\n",
       "      <th>count</th>\n",
       "      <td>7032.000000</td>\n",
       "      <td>7032.000000</td>\n",
       "      <td>7032.000000</td>\n",
       "      <td>7032.000000</td>\n",
       "    </tr>\n",
       "    <tr>\n",
       "      <th>mean</th>\n",
       "      <td>0.162400</td>\n",
       "      <td>32.421786</td>\n",
       "      <td>64.798208</td>\n",
       "      <td>2283.300441</td>\n",
       "    </tr>\n",
       "    <tr>\n",
       "      <th>std</th>\n",
       "      <td>0.368844</td>\n",
       "      <td>24.545260</td>\n",
       "      <td>30.085974</td>\n",
       "      <td>2266.771362</td>\n",
       "    </tr>\n",
       "    <tr>\n",
       "      <th>min</th>\n",
       "      <td>0.000000</td>\n",
       "      <td>1.000000</td>\n",
       "      <td>18.250000</td>\n",
       "      <td>18.800000</td>\n",
       "    </tr>\n",
       "    <tr>\n",
       "      <th>25%</th>\n",
       "      <td>0.000000</td>\n",
       "      <td>9.000000</td>\n",
       "      <td>35.587500</td>\n",
       "      <td>401.450000</td>\n",
       "    </tr>\n",
       "    <tr>\n",
       "      <th>50%</th>\n",
       "      <td>0.000000</td>\n",
       "      <td>29.000000</td>\n",
       "      <td>70.350000</td>\n",
       "      <td>1397.475000</td>\n",
       "    </tr>\n",
       "    <tr>\n",
       "      <th>75%</th>\n",
       "      <td>0.000000</td>\n",
       "      <td>55.000000</td>\n",
       "      <td>89.862500</td>\n",
       "      <td>3794.737500</td>\n",
       "    </tr>\n",
       "    <tr>\n",
       "      <th>max</th>\n",
       "      <td>1.000000</td>\n",
       "      <td>72.000000</td>\n",
       "      <td>118.750000</td>\n",
       "      <td>8684.800000</td>\n",
       "    </tr>\n",
       "  </tbody>\n",
       "</table>\n",
       "</div>"
      ],
      "text/plain": [
       "       SeniorCitizen       tenure  MonthlyCharges  TotalCharges\n",
       "count    7032.000000  7032.000000     7032.000000   7032.000000\n",
       "mean        0.162400    32.421786       64.798208   2283.300441\n",
       "std         0.368844    24.545260       30.085974   2266.771362\n",
       "min         0.000000     1.000000       18.250000     18.800000\n",
       "25%         0.000000     9.000000       35.587500    401.450000\n",
       "50%         0.000000    29.000000       70.350000   1397.475000\n",
       "75%         0.000000    55.000000       89.862500   3794.737500\n",
       "max         1.000000    72.000000      118.750000   8684.800000"
      ]
     },
     "execution_count": 8,
     "metadata": {},
     "output_type": "execute_result"
    }
   ],
   "source": [
    "data.drop(data[data['TotalCharges'] == \" \"].index, axis=0, inplace=True)\n",
    "data['TotalCharges'] = data['TotalCharges'].astype('float')\n",
    "data.describe() "
   ]
  },
  {
   "cell_type": "markdown",
   "metadata": {},
   "source": [
    "- Generates descriptive statistics for numerical columns, including `count, mean, standard deviation, minimum, maximum, and quartile values`. It's useful for getting a basic understanding of the distribution of numerical features."
   ]
  },
  {
   "cell_type": "code",
   "execution_count": 9,
   "metadata": {},
   "outputs": [
    {
     "data": {
      "text/plain": [
       "customerID          0\n",
       "gender              0\n",
       "SeniorCitizen       0\n",
       "Partner             0\n",
       "Dependents          0\n",
       "tenure              0\n",
       "PhoneService        0\n",
       "MultipleLines       0\n",
       "InternetService     0\n",
       "OnlineSecurity      0\n",
       "OnlineBackup        0\n",
       "DeviceProtection    0\n",
       "TechSupport         0\n",
       "StreamingTV         0\n",
       "StreamingMovies     0\n",
       "Contract            0\n",
       "PaperlessBilling    0\n",
       "PaymentMethod       0\n",
       "MonthlyCharges      0\n",
       "TotalCharges        0\n",
       "Churn               0\n",
       "dtype: int64"
      ]
     },
     "execution_count": 9,
     "metadata": {},
     "output_type": "execute_result"
    }
   ],
   "source": [
    "data.isnull().sum()"
   ]
  },
  {
   "cell_type": "markdown",
   "metadata": {},
   "source": [
    "- Shows the total number of `missing (null) values` in each column of the dataset. If the result is zero for all columns, it means there are no missing values."
   ]
  },
  {
   "cell_type": "code",
   "execution_count": 10,
   "metadata": {},
   "outputs": [
    {
     "data": {
      "text/plain": [
       "0"
      ]
     },
     "execution_count": 10,
     "metadata": {},
     "output_type": "execute_result"
    }
   ],
   "source": [
    "data.duplicated().sum()"
   ]
  },
  {
   "cell_type": "markdown",
   "metadata": {},
   "source": [
    "- This line checks for any duplicate rows in the dataset. The `data.duplicated()` function returns a Boolean Series where True indicates a duplicate row. The `sum()` function then counts the total number of True values, effectively giving the number of duplicated rows. This is useful for detecting and possibly removing redundant data in your dataset to ensure data quality."
   ]
  },
  {
   "cell_type": "code",
   "execution_count": 11,
   "metadata": {},
   "outputs": [],
   "source": [
    "def unique_values(data: pd.DataFrame = None, column: str = None):\n",
    "    \"\"\"\n",
    "    Prints the unique values present in the given column of the given DataFrame.\n",
    "\n",
    "    Parameters:\n",
    "    data (pd.DataFrame): The DataFrame containing the column.\n",
    "    column (str): The column whose unique values are to be printed.\n",
    "\n",
    "    Returns:\n",
    "    None\n",
    "    \"\"\"\n",
    "    unique_values = data[column].unique()\n",
    "    return print(unique_values)"
   ]
  },
  {
   "cell_type": "code",
   "execution_count": 12,
   "metadata": {},
   "outputs": [
    {
     "name": "stdout",
     "output_type": "stream",
     "text": [
      "['Female' 'Male']\n"
     ]
    }
   ],
   "source": [
    "unique_values(data=data, column='gender')"
   ]
  },
  {
   "cell_type": "code",
   "execution_count": 13,
   "metadata": {},
   "outputs": [
    {
     "data": {
      "text/html": [
       "<div>\n",
       "<style scoped>\n",
       "    .dataframe tbody tr th:only-of-type {\n",
       "        vertical-align: middle;\n",
       "    }\n",
       "\n",
       "    .dataframe tbody tr th {\n",
       "        vertical-align: top;\n",
       "    }\n",
       "\n",
       "    .dataframe thead th {\n",
       "        text-align: right;\n",
       "    }\n",
       "</style>\n",
       "<table border=\"1\" class=\"dataframe\">\n",
       "  <thead>\n",
       "    <tr style=\"text-align: right;\">\n",
       "      <th></th>\n",
       "      <th>gender</th>\n",
       "      <th>SeniorCitizen</th>\n",
       "      <th>Partner</th>\n",
       "      <th>Dependents</th>\n",
       "      <th>PhoneService</th>\n",
       "      <th>MultipleLines</th>\n",
       "      <th>InternetService</th>\n",
       "      <th>OnlineSecurity</th>\n",
       "      <th>OnlineBackup</th>\n",
       "      <th>DeviceProtection</th>\n",
       "      <th>TechSupport</th>\n",
       "      <th>StreamingTV</th>\n",
       "      <th>StreamingMovies</th>\n",
       "      <th>Contract</th>\n",
       "      <th>PaperlessBilling</th>\n",
       "      <th>PaymentMethod</th>\n",
       "      <th>Churn</th>\n",
       "    </tr>\n",
       "  </thead>\n",
       "  <tbody>\n",
       "    <tr>\n",
       "      <th>0</th>\n",
       "      <td>Female</td>\n",
       "      <td>0.0</td>\n",
       "      <td>Yes</td>\n",
       "      <td>No</td>\n",
       "      <td>No</td>\n",
       "      <td>No phone service</td>\n",
       "      <td>DSL</td>\n",
       "      <td>No</td>\n",
       "      <td>Yes</td>\n",
       "      <td>No</td>\n",
       "      <td>No</td>\n",
       "      <td>No</td>\n",
       "      <td>No</td>\n",
       "      <td>Month-to-month</td>\n",
       "      <td>Yes</td>\n",
       "      <td>Electronic check</td>\n",
       "      <td>No</td>\n",
       "    </tr>\n",
       "    <tr>\n",
       "      <th>1</th>\n",
       "      <td>Male</td>\n",
       "      <td>1.0</td>\n",
       "      <td>No</td>\n",
       "      <td>Yes</td>\n",
       "      <td>Yes</td>\n",
       "      <td>No</td>\n",
       "      <td>Fiber optic</td>\n",
       "      <td>Yes</td>\n",
       "      <td>No</td>\n",
       "      <td>Yes</td>\n",
       "      <td>Yes</td>\n",
       "      <td>Yes</td>\n",
       "      <td>Yes</td>\n",
       "      <td>One year</td>\n",
       "      <td>No</td>\n",
       "      <td>Mailed check</td>\n",
       "      <td>Yes</td>\n",
       "    </tr>\n",
       "    <tr>\n",
       "      <th>2</th>\n",
       "      <td>NaN</td>\n",
       "      <td>NaN</td>\n",
       "      <td>NaN</td>\n",
       "      <td>NaN</td>\n",
       "      <td>NaN</td>\n",
       "      <td>Yes</td>\n",
       "      <td>No</td>\n",
       "      <td>No internet service</td>\n",
       "      <td>No internet service</td>\n",
       "      <td>No internet service</td>\n",
       "      <td>No internet service</td>\n",
       "      <td>No internet service</td>\n",
       "      <td>No internet service</td>\n",
       "      <td>Two year</td>\n",
       "      <td>NaN</td>\n",
       "      <td>Bank transfer (automatic)</td>\n",
       "      <td>NaN</td>\n",
       "    </tr>\n",
       "    <tr>\n",
       "      <th>3</th>\n",
       "      <td>NaN</td>\n",
       "      <td>NaN</td>\n",
       "      <td>NaN</td>\n",
       "      <td>NaN</td>\n",
       "      <td>NaN</td>\n",
       "      <td>NaN</td>\n",
       "      <td>NaN</td>\n",
       "      <td>NaN</td>\n",
       "      <td>NaN</td>\n",
       "      <td>NaN</td>\n",
       "      <td>NaN</td>\n",
       "      <td>NaN</td>\n",
       "      <td>NaN</td>\n",
       "      <td>NaN</td>\n",
       "      <td>NaN</td>\n",
       "      <td>Credit card (automatic)</td>\n",
       "      <td>NaN</td>\n",
       "    </tr>\n",
       "  </tbody>\n",
       "</table>\n",
       "</div>"
      ],
      "text/plain": [
       "   gender  SeniorCitizen Partner Dependents PhoneService     MultipleLines  \\\n",
       "0  Female            0.0     Yes         No           No  No phone service   \n",
       "1    Male            1.0      No        Yes          Yes                No   \n",
       "2     NaN            NaN     NaN        NaN          NaN               Yes   \n",
       "3     NaN            NaN     NaN        NaN          NaN               NaN   \n",
       "\n",
       "  InternetService       OnlineSecurity         OnlineBackup  \\\n",
       "0             DSL                   No                  Yes   \n",
       "1     Fiber optic                  Yes                   No   \n",
       "2              No  No internet service  No internet service   \n",
       "3             NaN                  NaN                  NaN   \n",
       "\n",
       "      DeviceProtection          TechSupport          StreamingTV  \\\n",
       "0                   No                   No                   No   \n",
       "1                  Yes                  Yes                  Yes   \n",
       "2  No internet service  No internet service  No internet service   \n",
       "3                  NaN                  NaN                  NaN   \n",
       "\n",
       "       StreamingMovies        Contract PaperlessBilling  \\\n",
       "0                   No  Month-to-month              Yes   \n",
       "1                  Yes        One year               No   \n",
       "2  No internet service        Two year              NaN   \n",
       "3                  NaN             NaN              NaN   \n",
       "\n",
       "               PaymentMethod Churn  \n",
       "0           Electronic check    No  \n",
       "1               Mailed check   Yes  \n",
       "2  Bank transfer (automatic)   NaN  \n",
       "3    Credit card (automatic)   NaN  "
      ]
     },
     "execution_count": 13,
     "metadata": {},
     "output_type": "execute_result"
    }
   ],
   "source": [
    "def unique_values_df(data: pd.DataFrame, columns_to_drop=None):\n",
    "    \"\"\"\n",
    "    Create a DataFrame showing the unique values for each column in a given DataFrame.\n",
    "    \n",
    "    Parameters\n",
    "    ----------\n",
    "    data : pd.DataFrame\n",
    "        The input DataFrame.\n",
    "    columns_to_drop : list or None, default=None\n",
    "        The columns to remove from the DataFrame before computing the unique values.\n",
    "    \n",
    "    Returns\n",
    "    -------\n",
    "    unique_df : pd.DataFrame\n",
    "        A DataFrame where each column is a Series containing the unique values from the\n",
    "        corresponding column in the input DataFrame.\n",
    "    \"\"\"\n",
    "    if columns_to_drop:\n",
    "        data = data.drop(columns=columns_to_drop)\n",
    "\n",
    "    unique_values_dict = {}\n",
    "\n",
    "    for column in data.columns:\n",
    "        unique_values = data[column].unique()\n",
    "        unique_values_dict[column] = unique_values\n",
    "\n",
    "    unique_df = pd.DataFrame(dict([(k, pd.Series(v)) for k, v in unique_values_dict.items()]))\n",
    "\n",
    "    return unique_df\n",
    "\n",
    "columns_to_drop = ['customerID', 'tenure', 'MonthlyCharges', 'TotalCharges']  # Specify the columns to drop\n",
    "unique_values_df = unique_values_df(data, columns_to_drop=columns_to_drop)\n",
    "unique_values_df"
   ]
  },
  {
   "cell_type": "markdown",
   "metadata": {},
   "source": [
    "## 4. Data Preprocessing\n",
    "- **It helps prepare and clean the data to make it suitable for modeling.**"
   ]
  },
  {
   "cell_type": "markdown",
   "metadata": {},
   "source": [
    "### 4.1 Data Cleaning"
   ]
  },
  {
   "cell_type": "code",
   "execution_count": 14,
   "metadata": {},
   "outputs": [],
   "source": [
    "# data.drop(data[data['TotalCharges'] == \" \"].index, axis=0, inplace=True)\n",
    "# data['TotalCharges'] = data['TotalCharges'].astype('float') \n",
    "# / The above two process has been done in the previous cell(16)"
   ]
  },
  {
   "cell_type": "markdown",
   "metadata": {},
   "source": [
    "- First line removes rows from the DataFrame where the `TotalCharges` column contains an empty string `\" \"`\n",
    "- Second line Converts the TotalCharges column to the `float` data type."
   ]
  },
  {
   "cell_type": "code",
   "execution_count": 15,
   "metadata": {},
   "outputs": [],
   "source": [
    "data.drop(columns=['customerID'], axis=1, inplace=True)"
   ]
  },
  {
   "cell_type": "markdown",
   "metadata": {},
   "source": [
    "- This line of code removes the `customerID` column from the DataFrame."
   ]
  },
  {
   "cell_type": "markdown",
   "metadata": {},
   "source": [
    "### 4.1.a Handling Outliers"
   ]
  },
  {
   "cell_type": "markdown",
   "metadata": {},
   "source": [
    "- **Detect and handle outliers using statistical methods or visualizations.**"
   ]
  },
  {
   "cell_type": "code",
   "execution_count": 16,
   "metadata": {},
   "outputs": [
    {
     "data": {
      "text/html": [
       "<div>\n",
       "<style scoped>\n",
       "    .dataframe tbody tr th:only-of-type {\n",
       "        vertical-align: middle;\n",
       "    }\n",
       "\n",
       "    .dataframe tbody tr th {\n",
       "        vertical-align: top;\n",
       "    }\n",
       "\n",
       "    .dataframe thead th {\n",
       "        text-align: right;\n",
       "    }\n",
       "</style>\n",
       "<table border=\"1\" class=\"dataframe\">\n",
       "  <thead>\n",
       "    <tr style=\"text-align: right;\">\n",
       "      <th></th>\n",
       "      <th>SeniorCitizen</th>\n",
       "      <th>tenure</th>\n",
       "      <th>MonthlyCharges</th>\n",
       "      <th>TotalCharges</th>\n",
       "    </tr>\n",
       "  </thead>\n",
       "  <tbody>\n",
       "    <tr>\n",
       "      <th>count</th>\n",
       "      <td>7032.000000</td>\n",
       "      <td>7032.000000</td>\n",
       "      <td>7032.000000</td>\n",
       "      <td>7032.000000</td>\n",
       "    </tr>\n",
       "    <tr>\n",
       "      <th>mean</th>\n",
       "      <td>0.162400</td>\n",
       "      <td>32.421786</td>\n",
       "      <td>64.798208</td>\n",
       "      <td>2283.300441</td>\n",
       "    </tr>\n",
       "    <tr>\n",
       "      <th>std</th>\n",
       "      <td>0.368844</td>\n",
       "      <td>24.545260</td>\n",
       "      <td>30.085974</td>\n",
       "      <td>2266.771362</td>\n",
       "    </tr>\n",
       "    <tr>\n",
       "      <th>min</th>\n",
       "      <td>0.000000</td>\n",
       "      <td>1.000000</td>\n",
       "      <td>18.250000</td>\n",
       "      <td>18.800000</td>\n",
       "    </tr>\n",
       "    <tr>\n",
       "      <th>25%</th>\n",
       "      <td>0.000000</td>\n",
       "      <td>9.000000</td>\n",
       "      <td>35.587500</td>\n",
       "      <td>401.450000</td>\n",
       "    </tr>\n",
       "    <tr>\n",
       "      <th>50%</th>\n",
       "      <td>0.000000</td>\n",
       "      <td>29.000000</td>\n",
       "      <td>70.350000</td>\n",
       "      <td>1397.475000</td>\n",
       "    </tr>\n",
       "    <tr>\n",
       "      <th>75%</th>\n",
       "      <td>0.000000</td>\n",
       "      <td>55.000000</td>\n",
       "      <td>89.862500</td>\n",
       "      <td>3794.737500</td>\n",
       "    </tr>\n",
       "    <tr>\n",
       "      <th>max</th>\n",
       "      <td>1.000000</td>\n",
       "      <td>72.000000</td>\n",
       "      <td>118.750000</td>\n",
       "      <td>8684.800000</td>\n",
       "    </tr>\n",
       "  </tbody>\n",
       "</table>\n",
       "</div>"
      ],
      "text/plain": [
       "       SeniorCitizen       tenure  MonthlyCharges  TotalCharges\n",
       "count    7032.000000  7032.000000     7032.000000   7032.000000\n",
       "mean        0.162400    32.421786       64.798208   2283.300441\n",
       "std         0.368844    24.545260       30.085974   2266.771362\n",
       "min         0.000000     1.000000       18.250000     18.800000\n",
       "25%         0.000000     9.000000       35.587500    401.450000\n",
       "50%         0.000000    29.000000       70.350000   1397.475000\n",
       "75%         0.000000    55.000000       89.862500   3794.737500\n",
       "max         1.000000    72.000000      118.750000   8684.800000"
      ]
     },
     "execution_count": 16,
     "metadata": {},
     "output_type": "execute_result"
    }
   ],
   "source": [
    "data.describe()"
   ]
  },
  {
   "cell_type": "code",
   "execution_count": 17,
   "metadata": {},
   "outputs": [],
   "source": [
    "def outliers_plot(data: pd.DataFrame = None, column: str = None):\n",
    "    \"\"\"\n",
    "    Function to plot outliers of a given column in a DataFrame.\n",
    "    \n",
    "    Parameters\n",
    "    ----------\n",
    "    data : pd.DataFrame\n",
    "        DataFrame containing the data to be plotted.\n",
    "    column : str\n",
    "        Name of the column in the DataFrame to plot outliers for.\n",
    "    \"\"\"\n",
    "    sns.boxplot(data=data, x=column)\n",
    "    plt.title(f'Distribution of {column}')"
   ]
  },
  {
   "cell_type": "code",
   "execution_count": 18,
   "metadata": {},
   "outputs": [
    {
     "data": {
      "image/png": "[encoded data removed]",
      "text/plain": [
       "<Figure size 640x480 with 1 Axes>"
      ]
     },
     "metadata": {},
     "output_type": "display_data"
    }
   ],
   "source": [
    "outliers_plot(data=data, column='tenure')"
   ]
  },
  {
   "cell_type": "code",
   "execution_count": 19,
   "metadata": {},
   "outputs": [
    {
     "data": {
      "image/png": "[encoded data removed]",
      "text/plain": [
       "<Figure size 640x480 with 1 Axes>"
      ]
     },
     "metadata": {},
     "output_type": "display_data"
    }
   ],
   "source": [
    "outliers_plot(data=data, column='MonthlyCharges')"
   ]
  },
  {
   "cell_type": "code",
   "execution_count": 20,
   "metadata": {},
   "outputs": [
    {
     "data": {
      "image/png": "[encoded data removed]",
      "text/plain": [
       "<Figure size 640x480 with 1 Axes>"
      ]
     },
     "metadata": {},
     "output_type": "display_data"
    }
   ],
   "source": [
    "outliers_plot(data=data, column='TotalCharges')"
   ]
  },
  {
   "cell_type": "markdown",
   "metadata": {},
   "source": [
    "- Boxplots were used to visually inspect the numerical columns, `'tenure', 'MonthlyCharges', and\n",
    "'TotalCharges'` for outliers.\n",
    "- The analysis confirmed that there are no outliers present in these columns.\n"
   ]
  },
  {
   "cell_type": "markdown",
   "metadata": {},
   "source": [
    "## 5. Data Transformation\n",
    "- **The primary goal is to improve the quality of the data.**\n",
    "- **For data transformation, you might want to include operations such as scaling, normalization, encoding, and feature engineering.**"
   ]
  },
  {
   "cell_type": "markdown",
   "metadata": {},
   "source": [
    "### 5.1 Encoding Categorical Variables\n",
    "- **Many machine learning algorithms require numerical input and cannot work directly with categorical data (e.g., strings or labels)**"
   ]
  },
  {
   "cell_type": "markdown",
   "metadata": {},
   "source": [
    "### 5.1.a Label Encoding\n",
    "- **Assign integer values to categorical labels**"
   ]
  },
  {
   "cell_type": "code",
   "execution_count": 21,
   "metadata": {},
   "outputs": [],
   "source": [
    "def genderLabelEncoding(data: pd.DataFrame, column: str = 'gender'):\n",
    "    \"\"\"\n",
    "    Encodes 'Female' as 1 and 'Male' as 0 in the specified column.\n",
    "    \n",
    "    Parameters:\n",
    "    data (pd.DataFrame): The input DataFrame.\n",
    "    column (str): The column name to encode. Default is 'gender'.\n",
    "    \n",
    "    Returns:\n",
    "    pd.DataFrame: The DataFrame with the gender column encoded.\n",
    "    \"\"\"\n",
    "    data[column] = data[column].map({'Female': 1, 'Male': 0})\n",
    "    \n",
    "    return data\n"
   ]
  },
  {
   "cell_type": "code",
   "execution_count": 22,
   "metadata": {},
   "outputs": [],
   "source": [
    "gender_encoded = genderLabelEncoding(data=data)"
   ]
  },
  {
   "cell_type": "code",
   "execution_count": 23,
   "metadata": {},
   "outputs": [],
   "source": [
    "def multipleLinesLabelEncoding(data: pd.DataFrame, column: str = 'MultipleLines'):\n",
    "    \"\"\"\n",
    "    Encodes 'No phone service' as 0, 'No' as 0, and 'Yes' as 1 in the specified column.\n",
    "    \n",
    "    Parameters:\n",
    "    data (pd.DataFrame): The input DataFrame.\n",
    "    column (str): The column name to encode. Default is 'MultipleLines'.\n",
    "    \n",
    "    Returns:\n",
    "    pd.DataFrame: The DataFrame with the MultipleLines column encoded.\n",
    "    \"\"\"\n",
    "    data[column] = data[column].map({'No phone service': 0, 'No': 0, 'Yes': 1})\n",
    "    \n",
    "    return data"
   ]
  },
  {
   "cell_type": "code",
   "execution_count": 24,
   "metadata": {},
   "outputs": [],
   "source": [
    "multiLines_encoded = multipleLinesLabelEncoding(data=data)"
   ]
  },
  {
   "cell_type": "code",
   "execution_count": 25,
   "metadata": {},
   "outputs": [],
   "source": [
    "def onlyYesValue_columns(data: pd.DataFrame):\n",
    "    \"\"\"\n",
    "    Returns a list of columns in the given DataFrame which contain 'Yes' in their values\n",
    "    and do not contain 'No internet service' or 'No phone service' in their values.\n",
    "    \n",
    "    Parameters:\n",
    "    data (pd.DataFrame): The input DataFrame.\n",
    "    \n",
    "    Returns:\n",
    "    list: A list of column names in the DataFrame where the values contain 'Yes' and\n",
    "    do not contain 'No internet service' or 'No phone service'.\n",
    "    \"\"\"\n",
    "    col_list = []\n",
    "    \n",
    "    for column in data.columns:\n",
    "        if 'Yes' in data[column].values and \\\n",
    "           'No internet service' not in data[column].values and \\\n",
    "           'No phone service' not in data[column].values:\n",
    "            col_list.append(column)\n",
    "    \n",
    "    return col_list\n"
   ]
  },
  {
   "cell_type": "code",
   "execution_count": 26,
   "metadata": {},
   "outputs": [
    {
     "data": {
      "text/plain": [
       "['Partner', 'Dependents', 'PhoneService', 'PaperlessBilling', 'Churn']"
      ]
     },
     "execution_count": 26,
     "metadata": {},
     "output_type": "execute_result"
    }
   ],
   "source": [
    "onlyYesValue_columns(data=data) # 1, 0, 0, 1, 0"
   ]
  },
  {
   "cell_type": "code",
   "execution_count": 27,
   "metadata": {},
   "outputs": [],
   "source": [
    "def autoLabelEncoding(data: pd.DataFrame = None, columns: list = None):\n",
    "    \"\"\"\n",
    "    Label Encoding the specified columns in the DataFrame.\n",
    "\n",
    "    Parameters:\n",
    "    data (pd.DataFrame): The DataFrame to be encoded.\n",
    "    columns (list): A list of column names to be encoded.\n",
    "\n",
    "    Returns:\n",
    "    pd.DataFrame: The encoded DataFrame.\n",
    "    \"\"\"\n",
    "    le = LabelEncoder()\n",
    "    for column in columns:\n",
    "        data[column] = le.fit_transform(data[column])\n",
    "    return data"
   ]
  },
  {
   "cell_type": "code",
   "execution_count": 28,
   "metadata": {},
   "outputs": [],
   "source": [
    "onlyYesValue_encoded = autoLabelEncoding(data=data, columns=onlyYesValue_columns(data=data))"
   ]
  },
  {
   "cell_type": "code",
   "execution_count": 29,
   "metadata": {},
   "outputs": [],
   "source": [
    "def noInternetValue_columns(data: pd.DataFrame):\n",
    "    \"\"\"\n",
    "    Returns a list of columns in the given DataFrame which contain 'No internet service' in their values\n",
    "    and do not contain 'No phone service' in their values.\n",
    "    \n",
    "    Parameters:\n",
    "    data (pd.DataFrame): The input DataFrame.\n",
    "    \n",
    "    Returns:\n",
    "    list: A list of column names in the DataFrame where the values contain 'No internet service' and\n",
    "    do not contain 'No phone service'.\n",
    "    \"\"\"\n",
    "    col_list = []\n",
    "    \n",
    "    for column in data.columns:\n",
    "        if 'No internet service' in data[column].values:\n",
    "            col_list.append(column)\n",
    "    \n",
    "    return col_list\n"
   ]
  },
  {
   "cell_type": "code",
   "execution_count": 30,
   "metadata": {},
   "outputs": [
    {
     "data": {
      "text/plain": [
       "['OnlineSecurity',\n",
       " 'OnlineBackup',\n",
       " 'DeviceProtection',\n",
       " 'TechSupport',\n",
       " 'StreamingTV',\n",
       " 'StreamingMovies']"
      ]
     },
     "execution_count": 30,
     "metadata": {},
     "output_type": "execute_result"
    }
   ],
   "source": [
    "noInternetValue_columns(data=data)"
   ]
  },
  {
   "cell_type": "code",
   "execution_count": 31,
   "metadata": {},
   "outputs": [],
   "source": [
    "def manualLabelEncoding(data: pd.DataFrame = None, columns: list = None):\n",
    "   \n",
    "    for column in columns:\n",
    "        data[column] = data[column].map({'Yes': 1, 'No': 0, 'No internet service': 0})\n",
    "    return data"
   ]
  },
  {
   "cell_type": "code",
   "execution_count": 32,
   "metadata": {},
   "outputs": [],
   "source": [
    "noInternetValue_encoded = manualLabelEncoding(data=data, columns=noInternetValue_columns(data=data))"
   ]
  },
  {
   "cell_type": "markdown",
   "metadata": {},
   "source": [
    "### 5.1.b One Hot Encoding\n",
    "- **Convert categorical variables into binary columns**"
   ]
  },
  {
   "cell_type": "code",
   "execution_count": 33,
   "metadata": {},
   "outputs": [],
   "source": [
    "def manualOneHotEncoding(data: pd.DataFrame = None, columns: list = None):\n",
    "    \"\"\"\n",
    "    Performs manual one-hot encoding on the specified columns in the DataFrame.\n",
    "\n",
    "    Parameters:\n",
    "    data (pd.DataFrame): The DataFrame to be one-hot encoded.\n",
    "    columns (list): A list of column names to be one-hot encoded.\n",
    "\n",
    "    Returns:\n",
    "    pd.DataFrame: The one-hot encoded DataFrame.\n",
    "    \"\"\"\n",
    "    for column in columns:\n",
    "        dummies = pd.get_dummies(data[column], prefix=column, drop_first=True, dtype='int')\n",
    "        data = pd.concat([data, dummies], axis=1)\n",
    "        data = data.drop(column, axis=1)\n",
    "    return data"
   ]
  },
  {
   "cell_type": "code",
   "execution_count": 34,
   "metadata": {},
   "outputs": [],
   "source": [
    "data = manualOneHotEncoding(data=data, columns=['InternetService', 'Contract', 'PaymentMethod'])"
   ]
  },
  {
   "cell_type": "markdown",
   "metadata": {},
   "source": [
    "### 5.1.c Feature Engineering\n",
    "- **Generating new variables based on existing ones to capture additional patterns or relationships.**"
   ]
  },
  {
   "cell_type": "code",
   "execution_count": 35,
   "metadata": {},
   "outputs": [],
   "source": [
    "data['TotalCharges_per_month'] = data['TotalCharges'] / (data['tenure'] + 1) # Adding 1 to avoid division by zero"
   ]
  },
  {
   "cell_type": "markdown",
   "metadata": {},
   "source": [
    "- Create a new feature `'TotalCharges_per_month'` by dividing 'TotalCharges' by 'tenure'"
   ]
  },
  {
   "cell_type": "markdown",
   "metadata": {},
   "source": [
    "### 5.1.d Data Balancing\n",
    "- **Handling Imbalanced Classes:**\n",
    "    - Resampling: Use techniques like SMOTE (Synthetic Minority Over-sampling Technique) or random oversampling/undersampling to balance class distributions.\n"
   ]
  },
  {
   "cell_type": "code",
   "execution_count": 36,
   "metadata": {},
   "outputs": [],
   "source": [
    "def dataBalancing(data: pd.DataFrame = None, methods: str = None):\n",
    "    \"\"\"\n",
    "    Performs data balancing on the input DataFrame using the specified method.\n",
    "    \n",
    "    Parameters:\n",
    "    data (pd.DataFrame): The input DataFrame to be balanced.\n",
    "    methods (str): The balancing method to be used. Possible values are 'SMOTE' and 'SMOTEENN'.\n",
    "    \n",
    "    Returns:\n",
    "    pd.DataFrame: The balanced DataFrame.\n",
    "    \"\"\"\n",
    "    X = data.drop('Churn', axis=1)\n",
    "    y = data['Churn']\n",
    "\n",
    "    if methods == 'SMOTE':\n",
    "        smote = SMOTE()\n",
    "        X_res, y_res = smote.fit_resample(X, y)\n",
    "    elif methods == 'SMOTEENN':\n",
    "        smoteenn = SMOTEENN()\n",
    "        X_res, y_res = smoteenn.fit_resample(X, y)\n",
    "    else:\n",
    "        pass\n",
    "    print(f\"No of counts before {methods}] Sampling:\\n  {Counter(y)}\")\n",
    "    print(f\"No of counts after {methods} Sampling:\\n  {Counter(y_res)}\")\n",
    "        \n",
    "    return X_res, y_res"
   ]
  },
  {
   "cell_type": "code",
   "execution_count": 37,
   "metadata": {},
   "outputs": [
    {
     "name": "stdout",
     "output_type": "stream",
     "text": [
      "No of counts before SMOTE] Sampling:\n",
      "  Counter({0: 5163, 1: 1869})\n",
      "No of counts after SMOTE Sampling:\n",
      "  Counter({0: 5163, 1: 5163})\n"
     ]
    }
   ],
   "source": [
    "balanced_data = dataBalancing(data=data, methods='SMOTE')"
   ]
  },
  {
   "cell_type": "markdown",
   "metadata": {},
   "source": [
    "### 5.1.e Split the Data into Training and Testing Sets\n",
    "- **After balancing, you should split your data into training and testing sets, so you can evaluate the performance of your model on unseen data.**"
   ]
  },
  {
   "cell_type": "code",
   "execution_count": 38,
   "metadata": {},
   "outputs": [],
   "source": [
    "def dataSplit(X: pd.DataFrame = None, y: pd.DataFrame = None, ratio: float = 0.2):\n",
    "    \"\"\"\n",
    "    Splits the input DataFrame into training and testing sets based on the specified ratio.\n",
    "    \n",
    "    Parameters:\n",
    "    X (pd.DataFrame): The input DataFrame to be split.\n",
    "    y (pd.DataFrame): The target variable DataFrame.\n",
    "    ratio (float): The ratio of the split. Default is 0.2.\n",
    "    \n",
    "    Returns:\n",
    "    tuple: A tuple containing the training and testing sets.\n",
    "    \"\"\"\n",
    "    X_train, X_test, y_train, y_test = train_test_split(X, y, test_size=ratio, random_state=42)\n",
    "    return X_train, X_test, y_train, y_test\n",
    "    "
   ]
  },
  {
   "cell_type": "code",
   "execution_count": 39,
   "metadata": {},
   "outputs": [],
   "source": [
    "X, y = balanced_data"
   ]
  },
  {
   "cell_type": "code",
   "execution_count": 40,
   "metadata": {},
   "outputs": [],
   "source": [
    "X_train, X_test, y_train, y_test = dataSplit(X=X, y=y)"
   ]
  },
  {
   "cell_type": "code",
   "execution_count": 41,
   "metadata": {},
   "outputs": [
    {
     "name": "stdout",
     "output_type": "stream",
     "text": [
      "(8260, 24)\n",
      "(2066, 24)\n",
      "(8260,)\n",
      "(2066,)\n"
     ]
    }
   ],
   "source": [
    "print(X_train.shape)\n",
    "print(X_test.shape)\n",
    "print(y_train.shape)\n",
    "print(y_test.shape)"
   ]
  },
  {
   "cell_type": "markdown",
   "metadata": {},
   "source": [
    "- After balancing the data, this shows that the dataset has been split into `8260 training` examples and `2066 test` examples equally, each with 24 features."
   ]
  },
  {
   "cell_type": "markdown",
   "metadata": {},
   "source": [
    "## 6. Model Training\n",
    "- **We can now train any classifier on your balanced dataset.**"
   ]
  },
  {
   "cell_type": "code",
   "execution_count": 42,
   "metadata": {},
   "outputs": [],
   "source": [
    "def modelTraining(X_train: pd.DataFrame = None, y_train: pd.DataFrame = None, model: str = None):\n",
    "    \"\"\"\n",
    "    Trains the specified model on the input DataFrame.\n",
    "    \n",
    "    Parameters:\n",
    "    X_train (pd.DataFrame): The training input DataFrame.\n",
    "    y_train (pd.DataFrame): The training target variable DataFrame.\n",
    "    model (str): The model to be trained. Possible values are 'LogisticRegression', 'RandomForestClassifier', and 'XGBClassifier' etc.\n",
    "     Returns:\n",
    "    object: The trained model.\n",
    "    \"\"\"\n",
    "    if model == 'LogisticRegression':\n",
    "        model = LogisticRegression(max_iter=1000)\n",
    "    elif model == 'RandomForestClassifier':\n",
    "        model = RandomForestClassifier()\n",
    "    elif model == 'XGBClassifier':\n",
    "        model = XGBClassifier()\n",
    "    else:\n",
    "        pass\n",
    "    model.fit(X_train, y_train)\n",
    "    return model\n"
   ]
  },
  {
   "cell_type": "code",
   "execution_count": 43,
   "metadata": {},
   "outputs": [],
   "source": [
    "model = modelTraining(X_train=X_train, y_train=y_train, model='XGBClassifier')"
   ]
  },
  {
   "cell_type": "markdown",
   "metadata": {},
   "source": [
    "## 7. Model Evaluation\n",
    "- **After training the model, evaluate its performance using metrics such as accuracy, F1 score, confusion matrix, and more, to understand how well it performs on both the majority and minority classes.**"
   ]
  },
  {
   "cell_type": "code",
   "execution_count": 44,
   "metadata": {},
   "outputs": [],
   "source": [
    "def modelEvaluation(X_test: pd.DataFrame = None, y_test: pd.DataFrame = None, model: object = None):\n",
    "    \"\"\"\n",
    "    Evaluates the specified model on the input DataFrame.\n",
    "    \n",
    "    Parameters:\n",
    "    X_test (pd.DataFrame): The testing input DataFrame.\n",
    "    y_test (pd.DataFrame): The testing target variable DataFrame.\n",
    "    model (object): The model to be evaluated.\n",
    "    \n",
    "    Returns:\n",
    "    float: The accuracy and F1 score of the model.\n",
    "    \"\"\"\n",
    "    y_pred = model.predict(X_test)\n",
    "    accuracy = accuracy_score(y_test, y_pred)\n",
    "    f1_Score = f1_score(y_test, y_pred)\n",
    "    \n",
    "    return print(f'Accuracy Score: {accuracy} \\nF1 Score: {f1_Score}')"
   ]
  },
  {
   "cell_type": "code",
   "execution_count": 45,
   "metadata": {},
   "outputs": [
    {
     "name": "stdout",
     "output_type": "stream",
     "text": [
      "Accuracy Score: 0.8407550822846079 \n",
      "F1 Score: 0.8411395461129889\n"
     ]
    }
   ],
   "source": [
    "evaluated_model = modelEvaluation(X_test=X_test, y_test=y_test, model=model)"
   ]
  },
  {
   "cell_type": "markdown",
   "metadata": {},
   "source": [
    "### 7.1 Classification Report \n",
    "- **The classification report will provide you with precision, recall, F1-score, and support for both classes. This helps in determining whether the model is balanced in its predictions.**"
   ]
  },
  {
   "cell_type": "code",
   "execution_count": 46,
   "metadata": {},
   "outputs": [],
   "source": [
    "def classificationReport(X_test: pd.DataFrame = None, y_test: pd.DataFrame = None, model: object = None):\n",
    "    \"\"\"\n",
    "    Evaluates the specified model on the input DataFrame.\n",
    "    \n",
    "    Parameters:\n",
    "    X_test (pd.DataFrame): The testing input DataFrame.\n",
    "    y_test (pd.DataFrame): The testing target variable DataFrame.\n",
    "    model (object): The model to be evaluated.\n",
    "    \n",
    "    Returns:\n",
    "    float: The classification report of the model.\n",
    "    \"\"\"\n",
    "    y_pred = model.predict(X_test)\n",
    "    report = classification_report(y_test, y_pred)\n",
    "    \n",
    "    return print(f\"Classification Report: \\n {report}\")"
   ]
  },
  {
   "cell_type": "code",
   "execution_count": 47,
   "metadata": {},
   "outputs": [
    {
     "name": "stdout",
     "output_type": "stream",
     "text": [
      "Classification Report: \n",
      "               precision    recall  f1-score   support\n",
      "\n",
      "           0       0.85      0.84      0.84      1037\n",
      "           1       0.84      0.85      0.84      1029\n",
      "\n",
      "    accuracy                           0.84      2066\n",
      "   macro avg       0.84      0.84      0.84      2066\n",
      "weighted avg       0.84      0.84      0.84      2066\n",
      "\n"
     ]
    }
   ],
   "source": [
    "cl_report = classificationReport(X_test=X_test, y_test=y_test, model=model)"
   ]
  },
  {
   "cell_type": "markdown",
   "metadata": {},
   "source": [
    "### 7.2 Confusion Matrix Report\n",
    "- **A confusion matrix is used to evaluate the performance of a classification model, especially in cases of binary or multiclass classification. It provides detailed insight into how well the model's predictions align with the actual labels by showing the counts of:**\n",
    "   - **True Positives (TP):** Correctly predicted positive class.\n",
    "   - **True Negatives (TN):** Correctly predicted negative class.\n",
    "   - **False Positives (FP) (Type I error):** Incorrectly predicted positive class.\n",
    "   - **False Negatives (FN) (Type II error):** Incorrectly predicted negative class."
   ]
  },
  {
   "cell_type": "code",
   "execution_count": 48,
   "metadata": {},
   "outputs": [],
   "source": [
    "def confusionMatrix(X_test: pd.DataFrame = None, y_test: pd.DataFrame = None, model: object = None):\n",
    "    \"\"\"\n",
    "    Evaluates the specified model on the input DataFrame.\n",
    "    \n",
    "    Parameters:\n",
    "    X_test (pd.DataFrame): The testing input DataFrame.\n",
    "    y_test (pd.DataFrame): The testing target variable DataFrame.\n",
    "    model (object): The model to be evaluated.\n",
    "    \n",
    "    Returns:\n",
    "    Plot: The confusion matrix of the model.\n",
    "    \"\"\"\n",
    "    y_pred = model.predict(X_test)\n",
    "    cm = confusion_matrix(y_test, y_pred)\n",
    "    \n",
    "    # return print(f\"Confusion Matrix: \\n {cm}\")\n",
    "    plt.figure(figsize=(6,4))\n",
    "    sns.heatmap(cm, annot=True, fmt='d', cmap='Blues', cbar=False)\n",
    "    plt.title('Confusion Matrix')\n",
    "    plt.ylabel('Actual Labels')\n",
    "    plt.xlabel('Predicted Labels')\n",
    "    plt.show()"
   ]
  },
  {
   "cell_type": "code",
   "execution_count": 49,
   "metadata": {},
   "outputs": [
    {
     "data": {
      "image/png": "[encoded data removed]",
      "text/plain": [
       "<Figure size 600x400 with 1 Axes>"
      ]
     },
     "metadata": {},
     "output_type": "display_data"
    }
   ],
   "source": [
    "cm_report = confusionMatrix(X_test=X_test, y_test=y_test, model=model)"
   ]
  },
  {
   "cell_type": "markdown",
   "metadata": {},
   "source": [
    "## ----------------------------------------X--------------------------------------------------------------------------------X----------------------------------------"
   ]
  },
  {
   "cell_type": "markdown",
   "metadata": {},
   "source": [
    "# Optionals\n",
    "- **1. Hyperparameter Tuning**\n",
    "  - You can improve the model’s performance by tuning its hyperparameters using techniques like GridSearchCV or RandomizedSearchCV.\n",
    "- **2. Cross-Validation**\n",
    "  - Cross-validation can help assess model performance in a more robust manner by using different data splits for training and testing.\n",
    "- **3. Feature Importance**\n",
    "  - Feature importance refers to techniques that help you identify which features (independent variables) contribute the most to the target prediction. It is not mandatory but highly useful in understanding the relationship between input features and the model’s prediction. It can also help improve model interpretability and performance."
   ]
  },
  {
   "cell_type": "markdown",
   "metadata": {},
   "source": [
    "## 1. Hyper Parameter Tuning"
   ]
  },
  {
   "cell_type": "code",
   "execution_count": 102,
   "metadata": {},
   "outputs": [],
   "source": [
    "def finetuning(model: object = None):\n",
    "     \"\"\"\n",
    "     Evaluates the specified model on the input DataFrame.\n",
    "\n",
    "     Parameters:\n",
    "     model (object): The model to be evaluated.\n",
    "\n",
    "     Returns:\n",
    "     dict: The best parameters of the model.\n",
    "    \"\"\"\n",
    "     param_grid = {\n",
    "          'learning_rate': [0.1, 0.01, 0.001],\n",
    "          'max_depth': [3, 5, 7],\n",
    "          'n_estimators': [50, 100, 200],\n",
    "          'subsample': [0.5, 0.7, 0.9],\n",
    "          'colsample_bytree': [0.5, 0.7, 0.9]\n",
    "     }                                        #XGBClassifier parameters\n",
    "    \n",
    "     # param_grid = {'max_features': ['sqrt', 'log2', None],\n",
    "     #      'n_estimators':[1000],\n",
    "     #           'criterion': ['entropy'],    \n",
    "     #      'max_depth': [10],\n",
    "     #      'min_samples_leaf': [1, 3, 5, 7],\n",
    "     #      'min_samples_split': [2, 4, 6, 8]\n",
    "     #      }                                 #RandomForestClassifier parameters\n",
    "    \n",
    "     grid_search = GridSearchCV(estimator=model, param_grid=param_grid, cv=5, n_jobs=-1, verbose=2, scoring='f1')\n",
    "     grid_search.fit(X_train, y_train)\n",
    "     best_params = grid_search.best_params_\n",
    "     pprint(f\"Best parameters: {best_params}\")\n",
    "     return best_params\n",
    "     "
   ]
  },
  {
   "cell_type": "code",
   "execution_count": 103,
   "metadata": {},
   "outputs": [
    {
     "name": "stdout",
     "output_type": "stream",
     "text": [
      "Fitting 5 folds for each of 243 candidates, totalling 1215 fits\n",
      "(\"Best parameters: {'colsample_bytree': 0.7, 'learning_rate': 0.1, \"\n",
      " \"'max_depth': 5, 'n_estimators': 200, 'subsample': 0.9}\")\n"
     ]
    }
   ],
   "source": [
    "fine_tuning = finetuning(model=XGBClassifier())"
   ]
  },
  {
   "cell_type": "code",
   "execution_count": 56,
   "metadata": {},
   "outputs": [],
   "source": [
    "def fineTunedModelTraining(X_train: pd.DataFrame = None, y_train: pd.DataFrame = None, model: str = None):\n",
    "    \"\"\"\n",
    "    Trains the specified model on the input DataFrame.\n",
    "    \n",
    "    Parameters:\n",
    "    X_train (pd.DataFrame): The training input DataFrame.\n",
    "    y_train (pd.DataFrame): The training target variable DataFrame.\n",
    "    model (str): The model to be trained. Possible values are 'LogisticRegression', 'RandomForestClassifier', and 'XGBClassifier' etc.\n",
    "     Returns:\n",
    "    object: The trained model.\n",
    "    \"\"\"\n",
    "    if model == 'LogisticRegression':\n",
    "        model = LogisticRegression(max_iter=1000)\n",
    "    elif model == 'RandomForestClassifier':\n",
    "        model = RandomForestClassifier(criterion= 'entropy', max_depth= 3, \n",
    "                                       max_features= 'log2', min_samples_leaf= 1, \n",
    "                                       min_samples_split= 2, n_estimators= 1000)\n",
    "    elif model == 'XGBClassifier':\n",
    "        model = XGBClassifier(colsample_bytree= 0.7, \n",
    "                              learning_rate= 0.1, max_depth= 5, \n",
    "                              n_estimators= 200, subsample= 0.9)\n",
    "    else:\n",
    "        pass\n",
    "    model.fit(X_train, y_train)\n",
    "    return model"
   ]
  },
  {
   "cell_type": "code",
   "execution_count": 57,
   "metadata": {},
   "outputs": [],
   "source": [
    "fineTuned_model = fineTunedModelTraining(X_train=X_train, y_train=y_train, model='XGBClassifier')"
   ]
  },
  {
   "cell_type": "code",
   "execution_count": 58,
   "metadata": {},
   "outputs": [
    {
     "name": "stdout",
     "output_type": "stream",
     "text": [
      "Accuracy Score: 0.8436592449177154 \n",
      "F1 Score: 0.8447861604997597\n"
     ]
    }
   ],
   "source": [
    "fineTuned_evaluated_model = modelEvaluation(X_test=X_test, y_test=y_test, model=fineTuned_model)"
   ]
  },
  {
   "cell_type": "markdown",
   "metadata": {},
   "source": [
    "- The fine-tuned XGBClassifier achieved a slight improvement in performance with an accuracy score of `0.844` and an F1 score of `0.844`, compared to the normal model's accuracy of `0.841` and F1 score of `0.841`."
   ]
  },
  {
   "cell_type": "markdown",
   "metadata": {},
   "source": [
    "## 2. Feature Importance"
   ]
  },
  {
   "cell_type": "code",
   "execution_count": 99,
   "metadata": {},
   "outputs": [],
   "source": [
    "def featureImportance(model: object = None):\n",
    "    \"\"\"\n",
    "    Plot feature importance scores as a bar chart.\n",
    "\n",
    "    Parameters\n",
    "    ----------\n",
    "    model : object, optional\n",
    "        A trained model with a feature_importances_ attribute, by default None\n",
    "        \n",
    "    Returns:\n",
    "    Plot: The feature importance of the model.\n",
    "    \"\"\"\n",
    "    feature_imp = pd.Series(model.feature_importances_, index=X.columns).sort_values(ascending=False)\n",
    "    plt.figure(figsize=(6,4))\n",
    "    sns.barplot(x=feature_imp, y=feature_imp.index)\n",
    "    plt.title(\"Feature Importance\")\n",
    "    plt.xlabel(\"Feature Importance Score\")\n",
    "    plt.ylabel(\"Features\")\n",
    "    plt.show()\n",
    "    # return print(feature_imp)"
   ]
  },
  {
   "cell_type": "code",
   "execution_count": 100,
   "metadata": {},
   "outputs": [
    {
     "data": {
      "image/png": "[encoded data removed]",
      "text/plain": [
       "<Figure size 600x400 with 1 Axes>"
      ]
     },
     "metadata": {},
     "output_type": "display_data"
    }
   ],
   "source": [
    "feature_imp = featureImportance(model=model)"
   ]
  },
  {
   "cell_type": "code",
   "execution_count": 59,
   "metadata": {},
   "outputs": [],
   "source": [
    "def featureImportanceTraining(data: pd.DataFrame = None):\n",
    "    \"\"\"\n",
    "    Trains a model on the selected features of the data, applies SMOTE to balance the data, and evaluates the model on the test data.\n",
    "\n",
    "    Parameters\n",
    "    ----------\n",
    "    data : pd.DataFrame\n",
    "        The input DataFrame to be split into training and testing sets.\n",
    "\n",
    "    Returns\n",
    "    -------\n",
    "    evaluated_model : dict\n",
    "        A dictionary containing the model evaluation metrics.\n",
    "    \"\"\"\n",
    "    \n",
    "    selected_features = ['Contract_Two year', 'InternetService_No', 'Contract_One year', \n",
    "                     'PaymentMethod_Mailed check', 'OnlineSecurity', \n",
    "                     'PaymentMethod_Credit card (automatic)', 'TechSupport',\n",
    "                     'Dependents', 'OnlineBackup', 'PhoneService', \n",
    "                     'InternetService_Fiber optic', 'StreamingMovies', \n",
    "                     'Partner', 'StreamingTV', 'tenure', 'Churn']\n",
    "    \n",
    "    X_selected = data[selected_features]\n",
    "    balanced_data = dataBalancing(data=X_selected, methods='SMOTE')\n",
    "    X, y = balanced_data\n",
    "    X_train, X_test, y_train, y_test = dataSplit(X=X, y=y)\n",
    "    model = modelTraining(X_train=X_train, y_train=y_train, model='XGBClassifier')\n",
    "    evaluated_model = modelEvaluation(X_test=X_test, y_test=y_test, model=model)\n",
    "    \n",
    "    return evaluated_model"
   ]
  },
  {
   "cell_type": "code",
   "execution_count": 60,
   "metadata": {},
   "outputs": [
    {
     "name": "stdout",
     "output_type": "stream",
     "text": [
      "No of counts before SMOTE] Sampling:\n",
      "  Counter({0: 5163, 1: 1869})\n",
      "No of counts after SMOTE Sampling:\n",
      "  Counter({0: 5163, 1: 5163})\n",
      "Accuracy Score: 0.81945788964182 \n",
      "F1 Score: 0.8294467306812986\n"
     ]
    }
   ],
   "source": [
    "featureImportance_Evaluated_model = featureImportanceTraining(data=data)"
   ]
  },
  {
   "cell_type": "markdown",
   "metadata": {},
   "source": [
    "- The model trained with selected features based on feature importance achieved an accuracy score of `0.819` and an F1 score of `0.827`, which is lower in performance compared to the previous model trained with all `24 features`."
   ]
  },
  {
   "cell_type": "markdown",
   "metadata": {},
   "source": [
    "## 3. Cross Validation"
   ]
  },
  {
   "cell_type": "markdown",
   "metadata": {},
   "source": [
    "### 3.1 Cross Validation on XGBClassifier"
   ]
  },
  {
   "cell_type": "code",
   "execution_count": 87,
   "metadata": {},
   "outputs": [],
   "source": [
    "def crossValidation(data: pd.DataFrame = None):\n",
    "    \n",
    "    balanced_data = dataBalancing(data=data, methods='SMOTE')\n",
    "    X, y = balanced_data\n",
    "    X_train, X_test, y_train, y_test = dataSplit(X=X, y=y)\n",
    "    model = modelTraining(X_train=X_train, y_train=y_train, model='XGBClassifier')\n",
    "    scores = cross_val_score(model, X_train, y_train, cv=5, scoring='f1')\n",
    "    \n",
    "    return print(f\"Cross-Validation Accuracy on XGBClassifier model:\\n  {scores.mean()}\")\n"
   ]
  },
  {
   "cell_type": "code",
   "execution_count": 88,
   "metadata": {},
   "outputs": [
    {
     "name": "stdout",
     "output_type": "stream",
     "text": [
      "No of counts before SMOTE] Sampling:\n",
      "  Counter({0: 5163, 1: 1869})\n",
      "No of counts after SMOTE Sampling:\n",
      "  Counter({0: 5163, 1: 5163})\n",
      "Cross-Validation Accuracy on XGBClassifier model:\n",
      "  0.8442023724629617\n"
     ]
    }
   ],
   "source": [
    "crossValidation_score = crossValidation(data=data)"
   ]
  },
  {
   "cell_type": "markdown",
   "metadata": {},
   "source": [
    "### 3.2 Cross Validation on RandomForestClassifier"
   ]
  },
  {
   "cell_type": "code",
   "execution_count": 89,
   "metadata": {},
   "outputs": [],
   "source": [
    "def crossValidation(data: pd.DataFrame = None):\n",
    "    \n",
    "    balanced_data = dataBalancing(data=data, methods='SMOTE')\n",
    "    X, y = balanced_data\n",
    "    X_train, X_test, y_train, y_test = dataSplit(X=X, y=y)\n",
    "    model = modelTraining(X_train=X_train, y_train=y_train, model='RandomForestClassifier')\n",
    "    scores = cross_val_score(model, X_train, y_train, cv=5, scoring='f1')\n",
    "    \n",
    "    return print(f\"Cross-Validation Accuracy on RandomForestClassifier model:\\n  {scores.mean()}\")"
   ]
  },
  {
   "cell_type": "code",
   "execution_count": 90,
   "metadata": {},
   "outputs": [
    {
     "name": "stdout",
     "output_type": "stream",
     "text": [
      "No of counts before SMOTE] Sampling:\n",
      "  Counter({0: 5163, 1: 1869})\n",
      "No of counts after SMOTE Sampling:\n",
      "  Counter({0: 5163, 1: 5163})\n",
      "Cross-Validation Accuracy on RandomForestClassifier model:\n",
      "  0.8403649284828919\n"
     ]
    }
   ],
   "source": [
    "crossValidation_score = crossValidation(data=data)"
   ]
  },
  {
   "cell_type": "markdown",
   "metadata": {},
   "source": [
    "- Both models were evaluated using cross-validation with SMOTE-balanced data. The RandomForestClassifier  achieved a mean F1 score of 0.840, while the XGBClassifier slightly outperformed it with a mean F1 score of 0.844, indicating that XGBClassifier offers a marginally better performance for this dataset."
   ]
  },
  {
   "cell_type": "code",
   "execution_count": null,
   "metadata": {},
   "outputs": [],
   "source": []
  }
 ],
 "metadata": {
  "kernelspec": {
   "display_name": "Python 3",
   "language": "python",
   "name": "python3"
  },
  "language_info": {
   "codemirror_mode": {
    "name": "ipython",
    "version": 3
   },
   "file_extension": ".py",
   "mimetype": "text/x-python",
   "name": "python",
   "nbconvert_exporter": "python",
   "pygments_lexer": "ipython3",
   "version": "3.10.0"
  }
 },
 "nbformat": 4,
 "nbformat_minor": 2
}
