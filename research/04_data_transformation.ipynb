{
 "cells": [
  {
   "cell_type": "code",
   "execution_count": 1,
   "metadata": {},
   "outputs": [],
   "source": [
    "import os"
   ]
  },
  {
   "cell_type": "code",
   "execution_count": 2,
   "metadata": {},
   "outputs": [
    {
     "data": {
      "text/plain": [
       "'d:\\\\New Projects\\\\Customer Churn Prediction - End to End (ML)\\\\Customer-Churn-Prediction\\\\research'"
      ]
     },
     "execution_count": 2,
     "metadata": {},
     "output_type": "execute_result"
    }
   ],
   "source": [
    "%pwd"
   ]
  },
  {
   "cell_type": "code",
   "execution_count": 3,
   "metadata": {},
   "outputs": [],
   "source": [
    "os.chdir(\"../\")"
   ]
  },
  {
   "cell_type": "code",
   "execution_count": 4,
   "metadata": {},
   "outputs": [
    {
     "data": {
      "text/plain": [
       "'d:\\\\New Projects\\\\Customer Churn Prediction - End to End (ML)\\\\Customer-Churn-Prediction'"
      ]
     },
     "execution_count": 4,
     "metadata": {},
     "output_type": "execute_result"
    }
   ],
   "source": [
    "%pwd"
   ]
  },
  {
   "cell_type": "code",
   "execution_count": 5,
   "metadata": {},
   "outputs": [],
   "source": [
    "from dataclasses import dataclass\n",
    "from pathlib import Path\n",
    "\n",
    "@dataclass(frozen=True)\n",
    "class DataTransformationConfig:\n",
    "    root_dir: Path\n",
    "    data_path: Path"
   ]
  },
  {
   "cell_type": "code",
   "execution_count": 6,
   "metadata": {},
   "outputs": [],
   "source": [
    "from CustomerChurn.constants import *\n",
    "from CustomerChurn.utils.common import read_yaml, create_directories"
   ]
  },
  {
   "cell_type": "code",
   "execution_count": 7,
   "metadata": {},
   "outputs": [],
   "source": [
    "class ConfigurationManager:\n",
    "    def __init__(\n",
    "        self,\n",
    "        config_filepath = CONFIG_FILE_PATH,\n",
    "        params_filepath = PARAMS_FILE_PATH,\n",
    "        schema_filepath = SCHEMA_FILE_PATH):\n",
    "        \n",
    "        self.config = read_yaml(config_filepath)\n",
    "        self.params = read_yaml(params_filepath)\n",
    "        self.schema = read_yaml(schema_filepath)\n",
    "        \n",
    "        create_directories([self.config.artifacts_root])\n",
    "        \n",
    "    def get_data_transformation_config(self) -> DataTransformationConfig:\n",
    "        config = self.config.data_transformation\n",
    "\n",
    "        create_directories([config.root_dir])\n",
    "\n",
    "        data_transformation_config = DataTransformationConfig(\n",
    "            root_dir=config.root_dir,\n",
    "            data_path=config.data_path,\n",
    "        )\n",
    "\n",
    "        return data_transformation_config"
   ]
  },
  {
   "cell_type": "code",
   "execution_count": 9,
   "metadata": {},
   "outputs": [],
   "source": [
    "import os\n",
    "import pandas as pd\n",
    "from typing import Union\n",
    "from CustomerChurn import logger\n",
    "from sklearn.model_selection import train_test_split\n",
    "from imblearn.over_sampling import SMOTE\n",
    "from imblearn.combine import SMOTEENN"
   ]
  },
  {
   "cell_type": "code",
   "execution_count": 12,
   "metadata": {},
   "outputs": [],
   "source": [
    "class DataTransformation:\n",
    "    def __init__(self, config: DataTransformationConfig):\n",
    "        self.config = config\n",
    "    \n",
    "    def load_data(self) -> pd.DataFrame:\n",
    "        try:\n",
    "            data = pd.read_csv(self.config.data_path)\n",
    "            logger.info(\"Data loaded successfully.\")\n",
    "            return data\n",
    "        except Exception as e:\n",
    "            logger.error(f\"Error loading data: {e}\")\n",
    "            raise e\n",
    "        \n",
    "    def encode_data(self, data: pd.DataFrame) -> pd.DataFrame:\n",
    "        try:\n",
    "            binary_columns = ['Partner', 'Dependents', 'PaperlessBilling', 'Churn', 'PhoneService']\n",
    "            data[binary_columns] = data[binary_columns].applymap(lambda x: 1 if x == 'Yes' else 0)\n",
    "            \n",
    "            data['gender'] = data['gender'].apply(lambda x: 1 if x == 'Female' else 0)\n",
    "\n",
    "            data['MultipleLines'] = data['MultipleLines'].map({'No phone service': 0, 'No': 0, 'Yes': 1})\n",
    "\n",
    "            internet_service_columns = ['OnlineSecurity', 'OnlineBackup', 'DeviceProtection', 'TechSupport', 'StreamingTV', 'StreamingMovies']\n",
    "            data[internet_service_columns] = data[internet_service_columns].replace({'No internet service': 0, 'No': 0, 'Yes': 1})\n",
    "\n",
    "            categorical_columns = ['InternetService', 'Contract', 'PaymentMethod']\n",
    "            data = pd.get_dummies(data, columns=categorical_columns, drop_first=True, dtype='int')\n",
    "\n",
    "            return data\n",
    "\n",
    "        except Exception as e:\n",
    "            logger.error(f\"Error during data encoding: {str(e)}\")\n",
    "            raise e\n",
    "\n",
    "    def feature_engineering(self, data: pd.DataFrame) -> pd.DataFrame:\n",
    "        try:\n",
    "            data['TotalCharges_per_month'] = data['TotalCharges'] / (data['tenure'] + 1)  # Avoiding division by zero\n",
    "            logger.info(\"Feature engineering complete.\")\n",
    "            return data\n",
    "        \n",
    "        except Exception as e:\n",
    "            logger.error(f\"Error in feature engineering: {str(e)}\")\n",
    "            raise e\n",
    "\n",
    "    def data_balancing(self, data: pd.DataFrame, method: str) -> Union[pd.DataFrame, pd.Series]:\n",
    "        try:\n",
    "            X = data.drop('Churn', axis=1)\n",
    "            y = data['Churn']\n",
    "            \n",
    "            if method == 'SMOTE':\n",
    "                smote = SMOTE()\n",
    "                X_res, y_res = smote.fit_resample(X, y)\n",
    "                logger.info(\"Data balanced using SMOTE.\")\n",
    "            elif method == 'SMOTEENN':\n",
    "                smoteenn = SMOTEENN()\n",
    "                X_res, y_res = smoteenn.fit_resample(X, y)\n",
    "                logger.info(\"Data balanced using SMOTEENN.\")\n",
    "            else:\n",
    "                raise ValueError(f\"Invalid method: {method}. Choose either 'SMOTE' or 'SMOTEENN'.\")\n",
    "            \n",
    "            logger.info(f\"Before balancing: {y.value_counts()}\")\n",
    "            logger.info(f\"After balancing: {y_res.value_counts()}\")\n",
    "            \n",
    "            balanced_data = pd.DataFrame(X_res)\n",
    "            balanced_data['Churn'] = y_res.values\n",
    "            return balanced_data\n",
    "\n",
    "        except Exception as e:\n",
    "            logger.error(f\"Error during data balancing: {str(e)}\")\n",
    "            raise e\n",
    "\n",
    "    def train_test_splitting(self, data: pd.DataFrame):\n",
    "        \n",
    "        try:\n",
    "            train, test = train_test_split(data)\n",
    "\n",
    "            if isinstance(train, pd.DataFrame) and isinstance(test, pd.DataFrame):\n",
    "                train.to_csv(os.path.join(self.config.root_dir, \"train.csv\"), index=False)\n",
    "                test.to_csv(os.path.join(self.config.root_dir, \"test.csv\"), index=False)\n",
    "\n",
    "                logger.info(\"Data split into training and test sets.\")\n",
    "                logger.info(f\"Train set shape: {train.shape}\")\n",
    "                logger.info(f\"Test set shape: {test.shape}\")\n",
    "            else:\n",
    "                raise ValueError(\"Train-test split did not return DataFrames.\")\n",
    "\n",
    "        except Exception as e:\n",
    "            logger.error(f\"Error during train-test splitting: {str(e)}\")\n",
    "            raise e\n",
    "        "
   ]
  },
  {
   "cell_type": "code",
   "execution_count": 13,
   "metadata": {},
   "outputs": [
    {
     "name": "stdout",
     "output_type": "stream",
     "text": [
      "[2024-09-20 12:30:28,865] 32 CustomerChurnLogger - common - INFO - yaml file: config\\config.yaml loaded successfully\n",
      "[2024-09-20 12:30:28,869] 32 CustomerChurnLogger - common - INFO - yaml file: params.yaml loaded successfully\n",
      "[2024-09-20 12:30:28,875] 32 CustomerChurnLogger - common - INFO - yaml file: schema.yaml loaded successfully\n",
      "[2024-09-20 12:30:28,877] 52 CustomerChurnLogger - common - INFO - Created directory at: artifacts\n",
      "[2024-09-20 12:30:28,879] 52 CustomerChurnLogger - common - INFO - Created directory at: artifacts/data_transformation\n",
      "[2024-09-20 12:30:28,929] 8 CustomerChurnLogger - 2969946110 - INFO - Data loaded successfully.\n",
      "[2024-09-20 12:30:28,984] 38 CustomerChurnLogger - 2969946110 - INFO - Feature engineering complete.\n",
      "[2024-09-20 12:30:29,114] 53 CustomerChurnLogger - 2969946110 - INFO - Data balanced using SMOTE.\n",
      "[2024-09-20 12:30:29,118] 61 CustomerChurnLogger - 2969946110 - INFO - Before balancing: Churn\n",
      "0    5163\n",
      "1    1869\n",
      "Name: count, dtype: int64\n"
     ]
    },
    {
     "name": "stderr",
     "output_type": "stream",
     "text": [
      "C:\\Users\\sprav\\AppData\\Local\\Temp\\ipykernel_7536\\2969946110.py:17: FutureWarning: DataFrame.applymap has been deprecated. Use DataFrame.map instead.\n",
      "  data[binary_columns] = data[binary_columns].applymap(lambda x: 1 if x == 'Yes' else 0)\n",
      "C:\\Users\\sprav\\AppData\\Local\\Temp\\ipykernel_7536\\2969946110.py:24: FutureWarning: Downcasting behavior in `replace` is deprecated and will be removed in a future version. To retain the old behavior, explicitly call `result.infer_objects(copy=False)`. To opt-in to the future behavior, set `pd.set_option('future.no_silent_downcasting', True)`\n",
      "  data[internet_service_columns] = data[internet_service_columns].replace({'No internet service': 0, 'No': 0, 'Yes': 1})\n"
     ]
    },
    {
     "name": "stdout",
     "output_type": "stream",
     "text": [
      "[2024-09-20 12:30:29,122] 62 CustomerChurnLogger - 2969946110 - INFO - After balancing: Churn\n",
      "0    5163\n",
      "1    5163\n",
      "Name: count, dtype: int64\n",
      "[2024-09-20 12:30:29,420] 81 CustomerChurnLogger - 2969946110 - INFO - Data split into training and test sets.\n",
      "[2024-09-20 12:30:29,421] 82 CustomerChurnLogger - 2969946110 - INFO - Train set shape: (7744, 25)\n",
      "[2024-09-20 12:30:29,423] 83 CustomerChurnLogger - 2969946110 - INFO - Test set shape: (2582, 25)\n"
     ]
    }
   ],
   "source": [
    "try:\n",
    "    config = ConfigurationManager()\n",
    "    data_transformation_config = config.get_data_transformation_config()\n",
    "    data_transformation = DataTransformation(config=data_transformation_config)\n",
    "    data = data_transformation.load_data()\n",
    "    data = data_transformation.encode_data(data=data)\n",
    "    data = data_transformation.feature_engineering(data=data)\n",
    "    balanced_data = data_transformation.data_balancing(data=data, method='SMOTE')\n",
    "    data_transformation.train_test_splitting(data=balanced_data)\n",
    "except Exception as e:\n",
    "    logger.error(f\"An error occurred during the transformation process: {e}\")\n",
    "    raise e"
   ]
  }
 ],
 "metadata": {
  "kernelspec": {
   "display_name": "Python 3",
   "language": "python",
   "name": "python3"
  },
  "language_info": {
   "codemirror_mode": {
    "name": "ipython",
    "version": 3
   },
   "file_extension": ".py",
   "mimetype": "text/x-python",
   "name": "python",
   "nbconvert_exporter": "python",
   "pygments_lexer": "ipython3",
   "version": "3.10.0"
  }
 },
 "nbformat": 4,
 "nbformat_minor": 2
}
